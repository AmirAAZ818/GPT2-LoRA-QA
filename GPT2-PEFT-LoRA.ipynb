{
 "cells": [
  {
   "cell_type": "markdown",
   "metadata": {},
   "source": [
    "# Parameter-Effcient Fine-tuning with LoRA"
   ]
  },
  {
   "cell_type": "code",
   "execution_count": 1,
   "metadata": {
    "execution": {
     "iopub.execute_input": "2025-07-07T19:44:09.516481Z",
     "iopub.status.busy": "2025-07-07T19:44:09.516024Z",
     "iopub.status.idle": "2025-07-07T19:44:14.978076Z",
     "shell.execute_reply": "2025-07-07T19:44:14.977094Z",
     "shell.execute_reply.started": "2025-07-07T19:44:09.516449Z"
    },
    "trusted": true
   },
   "outputs": [
    {
     "name": "stdout",
     "output_type": "stream",
     "text": [
      "Collecting evaluate\n",
      "  Downloading evaluate-0.4.4-py3-none-any.whl.metadata (9.5 kB)\n",
      "Requirement already satisfied: datasets>=2.0.0 in /usr/local/lib/python3.11/dist-packages (from evaluate) (3.6.0)\n",
      "Requirement already satisfied: numpy>=1.17 in /usr/local/lib/python3.11/dist-packages (from evaluate) (1.26.4)\n",
      "Requirement already satisfied: dill in /usr/local/lib/python3.11/dist-packages (from evaluate) (0.3.8)\n",
      "Requirement already satisfied: pandas in /usr/local/lib/python3.11/dist-packages (from evaluate) (2.2.3)\n",
      "Requirement already satisfied: requests>=2.19.0 in /usr/local/lib/python3.11/dist-packages (from evaluate) (2.32.3)\n",
      "Requirement already satisfied: tqdm>=4.62.1 in /usr/local/lib/python3.11/dist-packages (from evaluate) (4.67.1)\n",
      "Requirement already satisfied: xxhash in /usr/local/lib/python3.11/dist-packages (from evaluate) (3.5.0)\n",
      "Requirement already satisfied: multiprocess in /usr/local/lib/python3.11/dist-packages (from evaluate) (0.70.16)\n",
      "Requirement already satisfied: fsspec>=2021.05.0 in /usr/local/lib/python3.11/dist-packages (from fsspec[http]>=2021.05.0->evaluate) (2025.3.2)\n",
      "Requirement already satisfied: huggingface-hub>=0.7.0 in /usr/local/lib/python3.11/dist-packages (from evaluate) (0.31.1)\n",
      "Requirement already satisfied: packaging in /usr/local/lib/python3.11/dist-packages (from evaluate) (25.0)\n",
      "Requirement already satisfied: filelock in /usr/local/lib/python3.11/dist-packages (from datasets>=2.0.0->evaluate) (3.18.0)\n",
      "Requirement already satisfied: pyarrow>=15.0.0 in /usr/local/lib/python3.11/dist-packages (from datasets>=2.0.0->evaluate) (19.0.1)\n",
      "Collecting fsspec>=2021.05.0 (from fsspec[http]>=2021.05.0->evaluate)\n",
      "  Downloading fsspec-2025.3.0-py3-none-any.whl.metadata (11 kB)\n",
      "Requirement already satisfied: pyyaml>=5.1 in /usr/local/lib/python3.11/dist-packages (from datasets>=2.0.0->evaluate) (6.0.2)\n",
      "Requirement already satisfied: aiohttp!=4.0.0a0,!=4.0.0a1 in /usr/local/lib/python3.11/dist-packages (from fsspec[http]>=2021.05.0->evaluate) (3.11.18)\n",
      "Requirement already satisfied: typing-extensions>=3.7.4.3 in /usr/local/lib/python3.11/dist-packages (from huggingface-hub>=0.7.0->evaluate) (4.13.2)\n",
      "Requirement already satisfied: hf-xet<2.0.0,>=1.1.0 in /usr/local/lib/python3.11/dist-packages (from huggingface-hub>=0.7.0->evaluate) (1.1.0)\n",
      "Requirement already satisfied: mkl_fft in /usr/local/lib/python3.11/dist-packages (from numpy>=1.17->evaluate) (1.3.8)\n",
      "Requirement already satisfied: mkl_random in /usr/local/lib/python3.11/dist-packages (from numpy>=1.17->evaluate) (1.2.4)\n",
      "Requirement already satisfied: mkl_umath in /usr/local/lib/python3.11/dist-packages (from numpy>=1.17->evaluate) (0.1.1)\n",
      "Requirement already satisfied: mkl in /usr/local/lib/python3.11/dist-packages (from numpy>=1.17->evaluate) (2025.1.0)\n",
      "Requirement already satisfied: tbb4py in /usr/local/lib/python3.11/dist-packages (from numpy>=1.17->evaluate) (2022.1.0)\n",
      "Requirement already satisfied: mkl-service in /usr/local/lib/python3.11/dist-packages (from numpy>=1.17->evaluate) (2.4.1)\n",
      "Requirement already satisfied: charset-normalizer<4,>=2 in /usr/local/lib/python3.11/dist-packages (from requests>=2.19.0->evaluate) (3.4.2)\n",
      "Requirement already satisfied: idna<4,>=2.5 in /usr/local/lib/python3.11/dist-packages (from requests>=2.19.0->evaluate) (3.10)\n",
      "Requirement already satisfied: urllib3<3,>=1.21.1 in /usr/local/lib/python3.11/dist-packages (from requests>=2.19.0->evaluate) (2.4.0)\n",
      "Requirement already satisfied: certifi>=2017.4.17 in /usr/local/lib/python3.11/dist-packages (from requests>=2.19.0->evaluate) (2025.4.26)\n",
      "Requirement already satisfied: python-dateutil>=2.8.2 in /usr/local/lib/python3.11/dist-packages (from pandas->evaluate) (2.9.0.post0)\n",
      "Requirement already satisfied: pytz>=2020.1 in /usr/local/lib/python3.11/dist-packages (from pandas->evaluate) (2025.2)\n",
      "Requirement already satisfied: tzdata>=2022.7 in /usr/local/lib/python3.11/dist-packages (from pandas->evaluate) (2025.2)\n",
      "Requirement already satisfied: aiohappyeyeballs>=2.3.0 in /usr/local/lib/python3.11/dist-packages (from aiohttp!=4.0.0a0,!=4.0.0a1->fsspec[http]>=2021.05.0->evaluate) (2.6.1)\n",
      "Requirement already satisfied: aiosignal>=1.1.2 in /usr/local/lib/python3.11/dist-packages (from aiohttp!=4.0.0a0,!=4.0.0a1->fsspec[http]>=2021.05.0->evaluate) (1.3.2)\n",
      "Requirement already satisfied: attrs>=17.3.0 in /usr/local/lib/python3.11/dist-packages (from aiohttp!=4.0.0a0,!=4.0.0a1->fsspec[http]>=2021.05.0->evaluate) (25.3.0)\n",
      "Requirement already satisfied: frozenlist>=1.1.1 in /usr/local/lib/python3.11/dist-packages (from aiohttp!=4.0.0a0,!=4.0.0a1->fsspec[http]>=2021.05.0->evaluate) (1.6.0)\n",
      "Requirement already satisfied: multidict<7.0,>=4.5 in /usr/local/lib/python3.11/dist-packages (from aiohttp!=4.0.0a0,!=4.0.0a1->fsspec[http]>=2021.05.0->evaluate) (6.4.3)\n",
      "Requirement already satisfied: propcache>=0.2.0 in /usr/local/lib/python3.11/dist-packages (from aiohttp!=4.0.0a0,!=4.0.0a1->fsspec[http]>=2021.05.0->evaluate) (0.3.1)\n",
      "Requirement already satisfied: yarl<2.0,>=1.17.0 in /usr/local/lib/python3.11/dist-packages (from aiohttp!=4.0.0a0,!=4.0.0a1->fsspec[http]>=2021.05.0->evaluate) (1.20.0)\n",
      "Requirement already satisfied: six>=1.5 in /usr/local/lib/python3.11/dist-packages (from python-dateutil>=2.8.2->pandas->evaluate) (1.17.0)\n",
      "Requirement already satisfied: intel-openmp<2026,>=2024 in /usr/local/lib/python3.11/dist-packages (from mkl->numpy>=1.17->evaluate) (2024.2.0)\n",
      "Requirement already satisfied: tbb==2022.* in /usr/local/lib/python3.11/dist-packages (from mkl->numpy>=1.17->evaluate) (2022.1.0)\n",
      "Requirement already satisfied: tcmlib==1.* in /usr/local/lib/python3.11/dist-packages (from tbb==2022.*->mkl->numpy>=1.17->evaluate) (1.3.0)\n",
      "Requirement already satisfied: intel-cmplr-lib-rt in /usr/local/lib/python3.11/dist-packages (from mkl_umath->numpy>=1.17->evaluate) (2024.2.0)\n",
      "Requirement already satisfied: intel-cmplr-lib-ur==2024.2.0 in /usr/local/lib/python3.11/dist-packages (from intel-openmp<2026,>=2024->mkl->numpy>=1.17->evaluate) (2024.2.0)\n",
      "Downloading evaluate-0.4.4-py3-none-any.whl (84 kB)\n",
      "\u001b[2K   \u001b[90m━━━━━━━━━━━━━━━━━━━━━━━━━━━━━━━━━━━━━━━━\u001b[0m \u001b[32m84.1/84.1 kB\u001b[0m \u001b[31m3.4 MB/s\u001b[0m eta \u001b[36m0:00:00\u001b[0m\n",
      "\u001b[?25hDownloading fsspec-2025.3.0-py3-none-any.whl (193 kB)\n",
      "\u001b[2K   \u001b[90m━━━━━━━━━━━━━━━━━━━━━━━━━━━━━━━━━━━━━━━━\u001b[0m \u001b[32m193.6/193.6 kB\u001b[0m \u001b[31m9.1 MB/s\u001b[0m eta \u001b[36m0:00:00\u001b[0m\n",
      "\u001b[?25hInstalling collected packages: fsspec, evaluate\n",
      "  Attempting uninstall: fsspec\n",
      "    Found existing installation: fsspec 2025.3.2\n",
      "    Uninstalling fsspec-2025.3.2:\n",
      "      Successfully uninstalled fsspec-2025.3.2\n",
      "\u001b[31mERROR: pip's dependency resolver does not currently take into account all the packages that are installed. This behaviour is the source of the following dependency conflicts.\n",
      "cesium 0.12.4 requires numpy<3.0,>=2.0, but you have numpy 1.26.4 which is incompatible.\n",
      "bigframes 1.42.0 requires rich<14,>=12.4.4, but you have rich 14.0.0 which is incompatible.\n",
      "torch 2.6.0+cu124 requires nvidia-cublas-cu12==12.4.5.8; platform_system == \"Linux\" and platform_machine == \"x86_64\", but you have nvidia-cublas-cu12 12.9.0.13 which is incompatible.\n",
      "torch 2.6.0+cu124 requires nvidia-cudnn-cu12==9.1.0.70; platform_system == \"Linux\" and platform_machine == \"x86_64\", but you have nvidia-cudnn-cu12 9.3.0.75 which is incompatible.\n",
      "torch 2.6.0+cu124 requires nvidia-cufft-cu12==11.2.1.3; platform_system == \"Linux\" and platform_machine == \"x86_64\", but you have nvidia-cufft-cu12 11.4.0.6 which is incompatible.\n",
      "torch 2.6.0+cu124 requires nvidia-curand-cu12==10.3.5.147; platform_system == \"Linux\" and platform_machine == \"x86_64\", but you have nvidia-curand-cu12 10.3.10.19 which is incompatible.\n",
      "torch 2.6.0+cu124 requires nvidia-cusolver-cu12==11.6.1.9; platform_system == \"Linux\" and platform_machine == \"x86_64\", but you have nvidia-cusolver-cu12 11.7.4.40 which is incompatible.\n",
      "torch 2.6.0+cu124 requires nvidia-cusparse-cu12==12.3.1.170; platform_system == \"Linux\" and platform_machine == \"x86_64\", but you have nvidia-cusparse-cu12 12.5.9.5 which is incompatible.\n",
      "torch 2.6.0+cu124 requires nvidia-nvjitlink-cu12==12.4.127; platform_system == \"Linux\" and platform_machine == \"x86_64\", but you have nvidia-nvjitlink-cu12 12.9.41 which is incompatible.\n",
      "gcsfs 2025.3.2 requires fsspec==2025.3.2, but you have fsspec 2025.3.0 which is incompatible.\u001b[0m\u001b[31m\n",
      "\u001b[0mSuccessfully installed evaluate-0.4.4 fsspec-2025.3.0\n"
     ]
    }
   ],
   "source": [
    "!pip install evaluate"
   ]
  },
  {
   "cell_type": "code",
   "execution_count": 47,
   "metadata": {
    "execution": {
     "iopub.execute_input": "2025-07-07T19:52:14.532086Z",
     "iopub.status.busy": "2025-07-07T19:52:14.531769Z",
     "iopub.status.idle": "2025-07-07T19:52:15.852488Z",
     "shell.execute_reply": "2025-07-07T19:52:15.851898Z",
     "shell.execute_reply.started": "2025-07-07T19:52:14.532058Z"
    },
    "trusted": true
   },
   "outputs": [],
   "source": [
    "import gc\n",
    "import os\n",
    "import random\n",
    "import copy\n",
    "import json\n",
    "\n",
    "import torch\n",
    "import transformers\n",
    "from transformers import AutoTokenizer, AutoModelForCausalLM, AutoConfig, TrainingArguments, Trainer\n",
    "from datasets import load_dataset\n",
    "import evaluate\n",
    "\n",
    "\n",
    "seed = 42\n",
    "random.seed(seed)\n",
    "transformers.set_seed(seed)\n",
    "\n",
    "import wandb"
   ]
  },
  {
   "cell_type": "markdown",
   "metadata": {},
   "source": [
    "### Configuring W&B"
   ]
  },
  {
   "cell_type": "code",
   "execution_count": 3,
   "metadata": {
    "execution": {
     "iopub.execute_input": "2025-07-07T19:46:49.188630Z",
     "iopub.status.busy": "2025-07-07T19:46:49.187886Z",
     "iopub.status.idle": "2025-07-07T19:46:49.193101Z",
     "shell.execute_reply": "2025-07-07T19:46:49.192411Z",
     "shell.execute_reply.started": "2025-07-07T19:46:49.188607Z"
    },
    "trusted": true
   },
   "outputs": [],
   "source": [
    "# set the wandb project where this run will be logged\n",
    "os.environ[\"WANDB_PROJECT\"]=\"Parameter-Effcient Fine-tuning of GPT-2 with LoRA\"\n",
    "\n",
    "# save your trained model checkpoint to wandb\n",
    "os.environ[\"checkpoint\"]=\"true\"\n",
    "\n",
    "# turn off watch to log faster\n",
    "os.environ[\"WANDB_WATCH\"]=\"false\""
   ]
  },
  {
   "cell_type": "code",
   "execution_count": 4,
   "metadata": {
    "execution": {
     "iopub.execute_input": "2025-07-07T19:46:52.070777Z",
     "iopub.status.busy": "2025-07-07T19:46:52.070110Z",
     "iopub.status.idle": "2025-07-07T19:46:52.182279Z",
     "shell.execute_reply": "2025-07-07T19:46:52.181723Z",
     "shell.execute_reply.started": "2025-07-07T19:46:52.070752Z"
    },
    "trusted": true
   },
   "outputs": [],
   "source": [
    "from kaggle_secrets import UserSecretsClient\n",
    "user_secrets = UserSecretsClient()\n",
    "wandb_api_key = user_secrets.get_secret(\"wandb_api_key\")"
   ]
  },
  {
   "cell_type": "code",
   "execution_count": 5,
   "metadata": {
    "execution": {
     "iopub.execute_input": "2025-07-07T19:46:53.010513Z",
     "iopub.status.busy": "2025-07-07T19:46:53.009906Z",
     "iopub.status.idle": "2025-07-07T19:46:59.033623Z",
     "shell.execute_reply": "2025-07-07T19:46:59.033078Z",
     "shell.execute_reply.started": "2025-07-07T19:46:53.010487Z"
    },
    "trusted": true
   },
   "outputs": [
    {
     "name": "stderr",
     "output_type": "stream",
     "text": [
      "\u001b[34m\u001b[1mwandb\u001b[0m: Using wandb-core as the SDK backend.  Please refer to https://wandb.me/wandb-core for more information.\n",
      "\u001b[34m\u001b[1mwandb\u001b[0m: \u001b[33mWARNING\u001b[0m If you're specifying your api key in code, ensure this code is not shared publicly.\n",
      "\u001b[34m\u001b[1mwandb\u001b[0m: \u001b[33mWARNING\u001b[0m Consider setting the WANDB_API_KEY environment variable, or running `wandb login` from the command line.\n",
      "\u001b[34m\u001b[1mwandb\u001b[0m: No netrc file found, creating one.\n",
      "\u001b[34m\u001b[1mwandb\u001b[0m: Appending key for api.wandb.ai to your netrc file: /root/.netrc\n",
      "\u001b[34m\u001b[1mwandb\u001b[0m: Currently logged in as: \u001b[33mamiraaz\u001b[0m to \u001b[32mhttps://api.wandb.ai\u001b[0m. Use \u001b[1m`wandb login --relogin`\u001b[0m to force relogin\n"
     ]
    },
    {
     "data": {
      "text/plain": [
       "True"
      ]
     },
     "execution_count": 5,
     "metadata": {},
     "output_type": "execute_result"
    }
   ],
   "source": [
    "wandb.login(key=wandb_api_key)"
   ]
  },
  {
   "cell_type": "markdown",
   "metadata": {},
   "source": [
    "## Data Preprocessing"
   ]
  },
  {
   "cell_type": "markdown",
   "metadata": {},
   "source": [
    "### Inits"
   ]
  },
  {
   "cell_type": "code",
   "execution_count": null,
   "metadata": {
    "execution": {
     "iopub.execute_input": "2025-07-07T19:46:59.035226Z",
     "iopub.status.busy": "2025-07-07T19:46:59.034598Z",
     "iopub.status.idle": "2025-07-07T19:47:00.159904Z",
     "shell.execute_reply": "2025-07-07T19:47:00.159336Z",
     "shell.execute_reply.started": "2025-07-07T19:46:59.035205Z"
    },
    "trusted": true
   },
   "outputs": [
    {
     "data": {
      "application/vnd.jupyter.widget-view+json": {
       "model_id": "78309152df6148cdb443cf229f1cc90c",
       "version_major": 2,
       "version_minor": 0
      },
      "text/plain": [
       "tokenizer_config.json:   0%|          | 0.00/26.0 [00:00<?, ?B/s]"
      ]
     },
     "metadata": {},
     "output_type": "display_data"
    },
    {
     "data": {
      "application/vnd.jupyter.widget-view+json": {
       "model_id": "c3191f9ffcae4fb8b278e3f8bb0e9557",
       "version_major": 2,
       "version_minor": 0
      },
      "text/plain": [
       "config.json:   0%|          | 0.00/665 [00:00<?, ?B/s]"
      ]
     },
     "metadata": {},
     "output_type": "display_data"
    },
    {
     "data": {
      "application/vnd.jupyter.widget-view+json": {
       "model_id": "6e2e7a9a08f14b7f8f588498adee7813",
       "version_major": 2,
       "version_minor": 0
      },
      "text/plain": [
       "vocab.json: 0.00B [00:00, ?B/s]"
      ]
     },
     "metadata": {},
     "output_type": "display_data"
    },
    {
     "data": {
      "application/vnd.jupyter.widget-view+json": {
       "model_id": "e5da2e00756442ec90560cdce8e51679",
       "version_major": 2,
       "version_minor": 0
      },
      "text/plain": [
       "merges.txt: 0.00B [00:00, ?B/s]"
      ]
     },
     "metadata": {},
     "output_type": "display_data"
    },
    {
     "data": {
      "application/vnd.jupyter.widget-view+json": {
       "model_id": "1932b78e3cb14213b32d9ee4c2ae0045",
       "version_major": 2,
       "version_minor": 0
      },
      "text/plain": [
       "tokenizer.json: 0.00B [00:00, ?B/s]"
      ]
     },
     "metadata": {},
     "output_type": "display_data"
    }
   ],
   "source": [
    "tokenizer = AutoTokenizer.from_pretrained('openai-community/gpt2')\n",
    "tokenizer.pad_token = tokenizer.eos_token"
   ]
  },
  {
   "cell_type": "code",
   "execution_count": null,
   "metadata": {
    "execution": {
     "iopub.execute_input": "2025-07-07T19:47:03.019070Z",
     "iopub.status.busy": "2025-07-07T19:47:03.018800Z",
     "iopub.status.idle": "2025-07-07T19:47:03.022655Z",
     "shell.execute_reply": "2025-07-07T19:47:03.021781Z",
     "shell.execute_reply.started": "2025-07-07T19:47:03.019053Z"
    },
    "trusted": true
   },
   "outputs": [],
   "source": [
    "config = AutoConfig.from_pretrained('openai-community/gpt2')\n",
    "model = AutoModelForCausalLM.from_pretrained('openai-community/gpt2', config=config)"
   ]
  },
  {
   "cell_type": "code",
   "execution_count": null,
   "metadata": {
    "execution": {
     "iopub.execute_input": "2025-07-07T19:47:03.291983Z",
     "iopub.status.busy": "2025-07-07T19:47:03.291768Z",
     "iopub.status.idle": "2025-07-07T19:47:05.489581Z",
     "shell.execute_reply": "2025-07-07T19:47:05.489047Z",
     "shell.execute_reply.started": "2025-07-07T19:47:03.291966Z"
    },
    "trusted": true
   },
   "outputs": [
    {
     "data": {
      "application/vnd.jupyter.widget-view+json": {
       "model_id": "1a00bfda6a2e4bfaa7733e3cfc44c029",
       "version_major": 2,
       "version_minor": 0
      },
      "text/plain": [
       "README.md: 0.00B [00:00, ?B/s]"
      ]
     },
     "metadata": {},
     "output_type": "display_data"
    },
    {
     "data": {
      "application/vnd.jupyter.widget-view+json": {
       "model_id": "9544bea49ef74d599581c9f2cc0f3688",
       "version_major": 2,
       "version_minor": 0
      },
      "text/plain": [
       "train-00000-of-00001.parquet:   0%|          | 0.00/14.5M [00:00<?, ?B/s]"
      ]
     },
     "metadata": {},
     "output_type": "display_data"
    },
    {
     "data": {
      "application/vnd.jupyter.widget-view+json": {
       "model_id": "32cbcfc3985e4a97b4dee9e9773e4bf4",
       "version_major": 2,
       "version_minor": 0
      },
      "text/plain": [
       "validation-00000-of-00001.parquet:   0%|          | 0.00/1.82M [00:00<?, ?B/s]"
      ]
     },
     "metadata": {},
     "output_type": "display_data"
    },
    {
     "data": {
      "application/vnd.jupyter.widget-view+json": {
       "model_id": "2b16b058b3b34088bb5c6adc288b63c1",
       "version_major": 2,
       "version_minor": 0
      },
      "text/plain": [
       "Generating train split:   0%|          | 0/87599 [00:00<?, ? examples/s]"
      ]
     },
     "metadata": {},
     "output_type": "display_data"
    },
    {
     "data": {
      "application/vnd.jupyter.widget-view+json": {
       "model_id": "b112f0dfaa8c4b798e68aaac36e513bc",
       "version_major": 2,
       "version_minor": 0
      },
      "text/plain": [
       "Generating validation split:   0%|          | 0/10570 [00:00<?, ? examples/s]"
      ]
     },
     "metadata": {},
     "output_type": "display_data"
    }
   ],
   "source": [
    "dataset = load_dataset('rajpurkar/squad')\n",
    "vali_ds = dataset['validation'].select(range(5)) # select 5 examples for validation\n",
    "split_ds = dataset['train'].train_test_split(test_size=0.1) # train_test_split with test_size=0.1\n",
    "train_ds = split_ds['train'].shuffle().select(range(0, 2000))  # YOUR CODE HERE - select 2000 shuffled examples\n",
    "eval_ds = split_ds['test'].shuffle().select(range(0, 200)) # select 200 shuffled examples"
   ]
  },
  {
   "cell_type": "markdown",
   "metadata": {},
   "source": [
    "### Clearing Memory"
   ]
  },
  {
   "cell_type": "code",
   "execution_count": 9,
   "metadata": {
    "execution": {
     "iopub.execute_input": "2025-07-07T19:47:05.542347Z",
     "iopub.status.busy": "2025-07-07T19:47:05.542073Z",
     "iopub.status.idle": "2025-07-07T19:47:05.953195Z",
     "shell.execute_reply": "2025-07-07T19:47:05.952587Z",
     "shell.execute_reply.started": "2025-07-07T19:47:05.542328Z"
    },
    "trusted": true
   },
   "outputs": [
    {
     "data": {
      "text/plain": [
       "468"
      ]
     },
     "execution_count": 9,
     "metadata": {},
     "output_type": "execute_result"
    }
   ],
   "source": [
    "del dataset, split_ds\n",
    "gc.collect()"
   ]
  },
  {
   "cell_type": "markdown",
   "metadata": {},
   "source": [
    "### Length Distribution of Sets\n",
    "**note: extractive question-answering task**"
   ]
  },
  {
   "cell_type": "code",
   "execution_count": 10,
   "metadata": {
    "execution": {
     "iopub.execute_input": "2025-07-07T19:47:08.154299Z",
     "iopub.status.busy": "2025-07-07T19:47:08.153958Z",
     "iopub.status.idle": "2025-07-07T19:47:08.162639Z",
     "shell.execute_reply": "2025-07-07T19:47:08.161943Z",
     "shell.execute_reply.started": "2025-07-07T19:47:08.154278Z"
    },
    "trusted": true
   },
   "outputs": [],
   "source": [
    "import matplotlib.pyplot as plt\n",
    "import numpy as np\n",
    "from scipy.stats import norm\n",
    "\n",
    "def plot_seq_length_distibution(examples, type_plot):\n",
    "\n",
    "    inputs = []\n",
    "    for context, question, answers in zip(examples['context'], examples['question'], examples['answers']):\n",
    "        answer_text = answers['text'][0]\n",
    "        \n",
    "        prompt = f\"Context: {context}\\nQuestion: {question}\\nAnswer:\"\n",
    "        full_text = prompt + answer_text + tokenizer.eos_token\n",
    "        \n",
    "        inputs.append(full_text)\n",
    "        \n",
    "    tokenized_data = tokenizer(inputs)\n",
    "    input_ids = tokenized_data['input_ids']\n",
    "\n",
    "    lengths = [len(t_list) for t_list in input_ids]\n",
    "\n",
    "    # Visualizing distro\n",
    "    \n",
    "    mu, sigma = np.mean(lengths), np.std(lengths)\n",
    "    \n",
    "    counts, bins, patches = plt.hist(\n",
    "    lengths, \n",
    "    bins=50, \n",
    "    density=False, \n",
    "    alpha=0.6, \n",
    "    color='g', \n",
    "    label='Data Frequency'\n",
    ")\n",
    "\n",
    "    # Plot fitted normal distribution\n",
    "    xmin, xmax = plt.xlim()\n",
    "    x = np.linspace(xmin, xmax, 100)\n",
    "    p = norm.pdf(x, mu, sigma) * len(lengths) * (bins[1] - bins[0]) \n",
    "    plt.plot(x, p, 'k', linewidth=2, label=f'Normal Fit (μ={mu:.2f}, σ={sigma:.2f})')\n",
    "    \n",
    "    # Add labels/legend\n",
    "    if type_plot == \"train\":\n",
    "        title = 'Train Set Histogram'\n",
    "    elif type_plot == 'valid':\n",
    "        title = 'Validation Set Histogram'\n",
    "    elif type_plot == 'eval':\n",
    "        title = 'Evaluation Set Histogram'\n",
    "    else:\n",
    "        raise exception\n",
    "    plt.title(title)\n",
    "    plt.xlabel(\"Value\")\n",
    "    plt.ylabel(\"Density\")\n",
    "    plt.legend()\n",
    "    plt.grid(True)\n",
    "    plt.show()\n",
    "\n",
    "    #stats\n",
    "    return {\n",
    "        'mean': mu,\n",
    "        \"std\": sigma,\n",
    "        'max': max(lengths),\n",
    "        'min': min(lengths),\n",
    "    }\n",
    "    "
   ]
  },
  {
   "cell_type": "code",
   "execution_count": 11,
   "metadata": {
    "execution": {
     "iopub.execute_input": "2025-07-07T19:47:08.429573Z",
     "iopub.status.busy": "2025-07-07T19:47:08.429345Z",
     "iopub.status.idle": "2025-07-07T19:47:09.308110Z",
     "shell.execute_reply": "2025-07-07T19:47:09.307184Z",
     "shell.execute_reply.started": "2025-07-07T19:47:08.429556Z"
    },
    "trusted": true
   },
   "outputs": [
    {
     "data": {
      "image/png": "[encoded data removed]",
      "text/plain": [
       "<Figure size 640x480 with 1 Axes>"
      ]
     },
     "metadata": {},
     "output_type": "display_data"
    },
    {
     "data": {
      "text/plain": [
       "{'mean': 181.2875, 'std': 64.36031264490563, 'max': 591, 'min': 49}"
      ]
     },
     "execution_count": 11,
     "metadata": {},
     "output_type": "execute_result"
    }
   ],
   "source": [
    "plot_seq_length_distibution(train_ds, type_plot='train')"
   ]
  },
  {
   "cell_type": "code",
   "execution_count": 12,
   "metadata": {
    "execution": {
     "iopub.execute_input": "2025-07-07T19:47:09.309465Z",
     "iopub.status.busy": "2025-07-07T19:47:09.309244Z",
     "iopub.status.idle": "2025-07-07T19:47:09.601457Z",
     "shell.execute_reply": "2025-07-07T19:47:09.600612Z",
     "shell.execute_reply.started": "2025-07-07T19:47:09.309442Z"
    },
    "trusted": true
   },
   "outputs": [
    {
     "data": {
      "image/png": "[encoded data removed]",
      "text/plain": [
       "<Figure size 640x480 with 1 Axes>"
      ]
     },
     "metadata": {},
     "output_type": "display_data"
    },
    {
     "data": {
      "text/plain": [
       "{'mean': 183.065, 'std': 65.83191304375106, 'max': 451, 'min': 78}"
      ]
     },
     "execution_count": 12,
     "metadata": {},
     "output_type": "execute_result"
    }
   ],
   "source": [
    "plot_seq_length_distibution(eval_ds, type_plot='eval')"
   ]
  },
  {
   "cell_type": "code",
   "execution_count": 13,
   "metadata": {
    "execution": {
     "iopub.execute_input": "2025-07-07T19:47:10.077424Z",
     "iopub.status.busy": "2025-07-07T19:47:10.076915Z",
     "iopub.status.idle": "2025-07-07T19:47:10.336116Z",
     "shell.execute_reply": "2025-07-07T19:47:10.335488Z",
     "shell.execute_reply.started": "2025-07-07T19:47:10.077399Z"
    },
    "trusted": true
   },
   "outputs": [
    {
     "data": {
      "image/png": "[encoded data removed]",
      "text/plain": [
       "<Figure size 640x480 with 1 Axes>"
      ]
     },
     "metadata": {},
     "output_type": "display_data"
    },
    {
     "data": {
      "text/plain": [
       "{'mean': 177.0, 'std': 2.0, 'max': 180, 'min': 174}"
      ]
     },
     "execution_count": 13,
     "metadata": {},
     "output_type": "execute_result"
    }
   ],
   "source": [
    "plot_seq_length_distibution(vali_ds, type_plot='valid')"
   ]
  },
  {
   "cell_type": "markdown",
   "metadata": {},
   "source": [
    "### Preprocessing Function Definition"
   ]
  },
  {
   "cell_type": "code",
   "execution_count": null,
   "metadata": {
    "execution": {
     "iopub.execute_input": "2025-07-07T19:47:10.840330Z",
     "iopub.status.busy": "2025-07-07T19:47:10.840087Z",
     "iopub.status.idle": "2025-07-07T19:47:10.847556Z",
     "shell.execute_reply": "2025-07-07T19:47:10.846588Z",
     "shell.execute_reply.started": "2025-07-07T19:47:10.840313Z"
    },
    "trusted": true
   },
   "outputs": [],
   "source": [
    "def preprocess_function(examples):\n",
    "    \"\"\"\n",
    "    Creates properly aligned input-label pairs for causal LM fine-tuning\n",
    "    \n",
    "    Args:\n",
    "        examples: Batch of SQuAD examples with 'context', 'question', 'answers'\n",
    "    \n",
    "    Returns:\n",
    "        Dictionary with 'input_ids', 'attention_mask', 'labels'\n",
    "    \"\"\"\n",
    "    inputs = []\n",
    "    targets = []\n",
    "    \n",
    "    for context, question, answers in zip(examples['context'], examples['question'], examples['answers']):\n",
    "        answer_text = answers['text'][0]\n",
    "        \n",
    "        prompt = f\"Context: {context}\\nQuestion: {question}\\nAnswer:\"\n",
    "        full_text = prompt + answer_text + tokenizer.eos_token\n",
    "        \n",
    "        inputs.append(full_text)\n",
    "    \n",
    "    model_inputs = tokenizer(inputs, max_length=300, truncation=True, padding='longest')\n",
    "    \n",
    "    labels = []\n",
    "    for i, input_ids in enumerate(model_inputs['input_ids']):\n",
    "        # YOUR CODE HERE: Create label_ids, find prompt_length, mask prompt tokens\n",
    "        label_ids = list(input_ids)\n",
    "        \n",
    "        c = examples['context'][i]\n",
    "        q = examples['question'][i]\n",
    "        \n",
    "        prompt = f\"Context: {c}\\nQuestion: {q}\\nAnswer:\"\n",
    "        tokenized_prompt = tokenizer(prompt, max_length=300, truncation=True)\n",
    "        prompt_length = len(tokenized_prompt['input_ids'])\n",
    "\n",
    "        for j in range(prompt_length):\n",
    "            if j < len(label_ids):\n",
    "                label_ids[j] = -100\n",
    "                \n",
    "        labels.append(label_ids)\n",
    "    \n",
    "    model_inputs['labels'] = labels\n",
    "\n",
    "\n",
    "    return model_inputs"
   ]
  },
  {
   "cell_type": "markdown",
   "metadata": {},
   "source": [
    "## Custom Data Collation"
   ]
  },
  {
   "cell_type": "code",
   "execution_count": null,
   "metadata": {
    "execution": {
     "iopub.execute_input": "2025-07-07T19:47:13.616545Z",
     "iopub.status.busy": "2025-07-07T19:47:13.616188Z",
     "iopub.status.idle": "2025-07-07T19:47:13.623873Z",
     "shell.execute_reply": "2025-07-07T19:47:13.623059Z",
     "shell.execute_reply.started": "2025-07-07T19:47:13.616524Z"
    },
    "trusted": true
   },
   "outputs": [],
   "source": [
    "class QADataCollator:\n",
    "    \"\"\"\n",
    "    Custom data collator for QA fine-tuning with proper padding\n",
    "    \"\"\"\n",
    "    def __init__(self, tokenizer, max_length=256):\n",
    "        self.tokenizer = tokenizer\n",
    "        self.max_length = max_length\n",
    "        self.label_pad_token_id = -100 \n",
    "    def __call__(self, features):\n",
    "        input_ids = [feautre[\"input_ids\"] for feautre in features]\n",
    "        attention_mask = [feautre[\"attention_mask\"] for feautre in features]\n",
    "        labels = [feautre[\"labels\"] for feautre in features]\n",
    "\n",
    "        # Counting maximum length for the current batch\n",
    "        batch_max_length = min(max(len(ids) for ids in input_ids), self.max_length)\n",
    "\n",
    "        tokenized_batch = self.tokenizer.pad(\n",
    "            [{'input_ids': ids, 'attention_mask': mask} for ids, mask in zip(input_ids, attention_mask)],\n",
    "            padding='longest', \n",
    "            max_length=self.max_length,\n",
    "            return_tensors='pt',            \n",
    "        )\n",
    "\n",
    "        \n",
    "        # Using -100 for labels\n",
    "        padded_labels = []\n",
    "        for label in labels:\n",
    "            if len(label) > batch_max_length:\n",
    "                # Truncatting\n",
    "                padded_labels.append(label[:batch_max_length])\n",
    "            elif len(label) < batch_max_length:\n",
    "                # Padding with -100\n",
    "                padded_labels.append(label + [self.label_pad_token_id] * (batch_max_length - len(label)))\n",
    "            else:\n",
    "                padded_labels.append(label)\n",
    "        \n",
    "        tokenized_batch['labels'] = torch.tensor(padded_labels, dtype=torch.long)\n",
    "        return tokenized_batch"
   ]
  },
  {
   "cell_type": "code",
   "execution_count": null,
   "metadata": {
    "execution": {
     "iopub.execute_input": "2025-07-07T19:47:17.078739Z",
     "iopub.status.busy": "2025-07-07T19:47:17.077970Z",
     "iopub.status.idle": "2025-07-07T19:47:19.221214Z",
     "shell.execute_reply": "2025-07-07T19:47:19.220535Z",
     "shell.execute_reply.started": "2025-07-07T19:47:17.078715Z"
    },
    "trusted": true
   },
   "outputs": [
    {
     "data": {
      "application/vnd.jupyter.widget-view+json": {
       "model_id": "2551aeb80ebb436ab920b6681fe81b17",
       "version_major": 2,
       "version_minor": 0
      },
      "text/plain": [
       "Map (num_proc=4):   0%|          | 0/2000 [00:00<?, ? examples/s]"
      ]
     },
     "metadata": {},
     "output_type": "display_data"
    },
    {
     "data": {
      "application/vnd.jupyter.widget-view+json": {
       "model_id": "b47bbef81e314594ad90359a87e8681e",
       "version_major": 2,
       "version_minor": 0
      },
      "text/plain": [
       "Map (num_proc=4):   0%|          | 0/200 [00:00<?, ? examples/s]"
      ]
     },
     "metadata": {},
     "output_type": "display_data"
    },
    {
     "name": "stdout",
     "output_type": "stream",
     "text": [
      "Training examples: 2000\n",
      "Eval examples: 200\n"
     ]
    }
   ],
   "source": [
    "tok_train_ds = train_ds.map(\n",
    "    preprocess_function,\n",
    "    batched=True, \n",
    "    remove_columns=train_ds.column_names,\n",
    "    num_proc=4\n",
    ")\n",
    "\n",
    "tok_eval_ds = eval_ds.map(\n",
    "    preprocess_function,\n",
    "    batched=True,\n",
    "    remove_columns=eval_ds.column_names,\n",
    "    num_proc=4\n",
    ")\n",
    "\n",
    "\n",
    "print(f\"Training examples: {len(tok_train_ds)}\")\n",
    "print(f\"Eval examples: {len(tok_eval_ds)}\")"
   ]
  },
  {
   "cell_type": "code",
   "execution_count": 17,
   "metadata": {
    "execution": {
     "iopub.execute_input": "2025-07-07T19:47:19.223028Z",
     "iopub.status.busy": "2025-07-07T19:47:19.222787Z",
     "iopub.status.idle": "2025-07-07T19:47:19.715716Z",
     "shell.execute_reply": "2025-07-07T19:47:19.714453Z",
     "shell.execute_reply.started": "2025-07-07T19:47:19.223007Z"
    },
    "trusted": true
   },
   "outputs": [
    {
     "data": {
      "application/vnd.jupyter.widget-view+json": {
       "model_id": "1081db75e8c14c0bbe2029f66514f2c1",
       "version_major": 2,
       "version_minor": 0
      },
      "text/plain": [
       "Saving the dataset (0/1 shards):   0%|          | 0/2000 [00:00<?, ? examples/s]"
      ]
     },
     "metadata": {},
     "output_type": "display_data"
    },
    {
     "data": {
      "application/vnd.jupyter.widget-view+json": {
       "model_id": "4aeb3edc92a74c3d92f8247c142e6a37",
       "version_major": 2,
       "version_minor": 0
      },
      "text/plain": [
       "Saving the dataset (0/1 shards):   0%|          | 0/200 [00:00<?, ? examples/s]"
      ]
     },
     "metadata": {},
     "output_type": "display_data"
    }
   ],
   "source": [
    "tok_train_ds.save_to_disk(\"./processed_data/tok_train_ds\")\n",
    "tok_eval_ds.save_to_disk(\"./processed_data/tok_eval_ds\")\n",
    "!zip -r -q processed_data.zip processed_data"
   ]
  },
  {
   "cell_type": "code",
   "execution_count": 18,
   "metadata": {
    "execution": {
     "iopub.execute_input": "2025-07-07T19:47:24.737912Z",
     "iopub.status.busy": "2025-07-07T19:47:24.737590Z",
     "iopub.status.idle": "2025-07-07T19:47:24.741928Z",
     "shell.execute_reply": "2025-07-07T19:47:24.741075Z",
     "shell.execute_reply.started": "2025-07-07T19:47:24.737888Z"
    },
    "trusted": true
   },
   "outputs": [],
   "source": [
    "# from datasets import load_from_disk\n",
    "# tok_train_ds = load_from_disk(\"/kaggle/input/sqaud-processed-data/processed_data/tok_train_ds\")\n",
    "# tok_eval_ds = load_from_disk(\"/kaggle/input/sqaud-processed-data/processed_data/tok_eval_ds\")"
   ]
  },
  {
   "cell_type": "markdown",
   "metadata": {},
   "source": [
    "## LoRA Conguration and Training"
   ]
  },
  {
   "cell_type": "markdown",
   "metadata": {},
   "source": [
    "### Importations"
   ]
  },
  {
   "cell_type": "code",
   "execution_count": 19,
   "metadata": {
    "execution": {
     "iopub.execute_input": "2025-07-07T19:47:25.618557Z",
     "iopub.status.busy": "2025-07-07T19:47:25.617780Z",
     "iopub.status.idle": "2025-07-07T19:47:25.988567Z",
     "shell.execute_reply": "2025-07-07T19:47:25.987813Z",
     "shell.execute_reply.started": "2025-07-07T19:47:25.618529Z"
    },
    "trusted": true
   },
   "outputs": [],
   "source": [
    "from peft import LoraConfig, TaskType, get_peft_model\n",
    "from torchinfo import summary"
   ]
  },
  {
   "cell_type": "markdown",
   "metadata": {},
   "source": [
    "### GPT2 Model Structure"
   ]
  },
  {
   "cell_type": "markdown",
   "metadata": {},
   "source": [
    "#### Overall Structure"
   ]
  },
  {
   "cell_type": "code",
   "execution_count": null,
   "metadata": {
    "execution": {
     "iopub.execute_input": "2025-07-07T19:47:27.352086Z",
     "iopub.status.busy": "2025-07-07T19:47:27.351341Z",
     "iopub.status.idle": "2025-07-07T19:47:27.355279Z",
     "shell.execute_reply": "2025-07-07T19:47:27.354477Z",
     "shell.execute_reply.started": "2025-07-07T19:47:27.352056Z"
    },
    "trusted": true
   },
   "outputs": [],
   "source": [
    "summary(model.transformer)"
   ]
  },
  {
   "cell_type": "markdown",
   "metadata": {},
   "source": [
    "#### Single GPT Block"
   ]
  },
  {
   "cell_type": "code",
   "execution_count": null,
   "metadata": {
    "execution": {
     "iopub.execute_input": "2025-07-07T19:47:27.640821Z",
     "iopub.status.busy": "2025-07-07T19:47:27.640279Z",
     "iopub.status.idle": "2025-07-07T19:47:27.644309Z",
     "shell.execute_reply": "2025-07-07T19:47:27.643306Z",
     "shell.execute_reply.started": "2025-07-07T19:47:27.640799Z"
    },
    "trusted": true
   },
   "outputs": [],
   "source": [
    "summary(model.transformer.h[0])"
   ]
  },
  {
   "cell_type": "markdown",
   "metadata": {},
   "source": [
    "### Freezing the model"
   ]
  },
  {
   "cell_type": "code",
   "execution_count": null,
   "metadata": {
    "execution": {
     "iopub.execute_input": "2025-07-07T19:47:29.498010Z",
     "iopub.status.busy": "2025-07-07T19:47:29.497228Z",
     "iopub.status.idle": "2025-07-07T19:47:29.501240Z",
     "shell.execute_reply": "2025-07-07T19:47:29.500580Z",
     "shell.execute_reply.started": "2025-07-07T19:47:29.497989Z"
    },
    "trusted": true
   },
   "outputs": [],
   "source": [
    "for param in model.parameters():\n",
    "    param.requires_grad = False"
   ]
  },
  {
   "cell_type": "markdown",
   "metadata": {},
   "source": [
    "### Setting LoRA Hyperparams"
   ]
  },
  {
   "cell_type": "code",
   "execution_count": null,
   "metadata": {
    "execution": {
     "iopub.execute_input": "2025-07-07T19:47:29.801920Z",
     "iopub.status.busy": "2025-07-07T19:47:29.801298Z",
     "iopub.status.idle": "2025-07-07T19:47:29.804923Z",
     "shell.execute_reply": "2025-07-07T19:47:29.804400Z",
     "shell.execute_reply.started": "2025-07-07T19:47:29.801899Z"
    },
    "trusted": true
   },
   "outputs": [],
   "source": [
    "lora_config = LoraConfig(\n",
    "    r=16,\n",
    "    lora_alpha=32, \n",
    "    target_modules=['c_attn', 'c_proj'],\n",
    "    lora_dropout=0.05,\n",
    "    bias='none',\n",
    "    task_type=TaskType.CAUSAL_LM\n",
    ")"
   ]
  },
  {
   "cell_type": "markdown",
   "metadata": {},
   "source": [
    "### Lora Model Making"
   ]
  },
  {
   "cell_type": "code",
   "execution_count": null,
   "metadata": {
    "execution": {
     "iopub.execute_input": "2025-07-07T19:47:30.208427Z",
     "iopub.status.busy": "2025-07-07T19:47:30.207867Z",
     "iopub.status.idle": "2025-07-07T19:47:30.211446Z",
     "shell.execute_reply": "2025-07-07T19:47:30.210860Z",
     "shell.execute_reply.started": "2025-07-07T19:47:30.208404Z"
    },
    "trusted": true
   },
   "outputs": [],
   "source": [
    "lora_model = get_peft_model(model, lora_config)\n",
    "lora_model.print_trainable_parameters()"
   ]
  },
  {
   "cell_type": "code",
   "execution_count": null,
   "metadata": {
    "execution": {
     "iopub.execute_input": "2025-07-07T19:47:30.445091Z",
     "iopub.status.busy": "2025-07-07T19:47:30.444631Z",
     "iopub.status.idle": "2025-07-07T19:47:30.448176Z",
     "shell.execute_reply": "2025-07-07T19:47:30.447541Z",
     "shell.execute_reply.started": "2025-07-07T19:47:30.445071Z"
    },
    "trusted": true
   },
   "outputs": [],
   "source": [
    "# Verify LoRA setup\n",
    "for name, param in lora_model.named_parameters():\n",
    "    if param.requires_grad:\n",
    "        print(f\"Trainable: {name}\")"
   ]
  },
  {
   "cell_type": "code",
   "execution_count": null,
   "metadata": {
    "execution": {
     "iopub.execute_input": "2025-07-07T19:47:30.598832Z",
     "iopub.status.busy": "2025-07-07T19:47:30.598599Z",
     "iopub.status.idle": "2025-07-07T19:47:30.602107Z",
     "shell.execute_reply": "2025-07-07T19:47:30.601460Z",
     "shell.execute_reply.started": "2025-07-07T19:47:30.598815Z"
    },
    "trusted": true
   },
   "outputs": [],
   "source": [
    "data_collator = QADataCollator(tokenizer, max_length=300)"
   ]
  },
  {
   "cell_type": "markdown",
   "metadata": {},
   "source": [
    "### Setting up Trainer Args"
   ]
  },
  {
   "cell_type": "code",
   "execution_count": null,
   "metadata": {
    "execution": {
     "iopub.execute_input": "2025-07-07T19:47:31.913997Z",
     "iopub.status.busy": "2025-07-07T19:47:31.913735Z",
     "iopub.status.idle": "2025-07-07T19:47:31.918417Z",
     "shell.execute_reply": "2025-07-07T19:47:31.917623Z",
     "shell.execute_reply.started": "2025-07-07T19:47:31.913980Z"
    },
    "trusted": true
   },
   "outputs": [],
   "source": [
    "from transformers import TrainingArguments, Trainer\n",
    "\n",
    "training_args = TrainingArguments(\n",
    "    output_dir=\"./lora_qa_finetuned_model/E1\", # Directory to save checkpoints and outputs\n",
    "    per_device_train_batch_size=8, # Batch size per GPU/CPU for training\n",
    "    gradient_accumulation_steps=2, # Accumulate gradients over 2 steps ?\n",
    "    per_device_eval_batch_size=8, # Batch size per GPU/CPU for evaluation\n",
    "    learning_rate=2e-4, # Initial learning rate for AdamW optimizer\n",
    "    num_train_epochs=10, # Total number of training epochs\n",
    "    logging_steps=50, # Log training metrics every 50 steps\n",
    "    save_steps=500, # Save checkpoint every 500 steps\n",
    "    \n",
    "    eval_strategy=\"steps\", # Evaluate every 'eval_steps'\n",
    "    eval_steps=500, # Perform evaluation every 500 steps\n",
    "    warmup_steps=100, # Number of warmup steps for learning rate scheduler\n",
    "    lr_scheduler_type=\"cosine\", # Type of learning rate scheduler\n",
    "    report_to=\"wandb\", # Don't report to any external logging tool by default\n",
    "    push_to_hub=False, # Do not push model to Hugging Face Hub\n",
    "    fp16=torch.cuda.is_available(), # Use mixed precision training if CUDA is available\n",
    "    load_best_model_at_end=True, # Load the best model at the end of training based on eval_loss\n",
    "    metric_for_best_model=\"eval_loss\", # Metric to determine the best model\n",
    "    greater_is_better=False, # Smaller eval_loss is better\n",
    ")"
   ]
  },
  {
   "cell_type": "code",
   "execution_count": null,
   "metadata": {
    "execution": {
     "iopub.execute_input": "2025-07-07T19:47:32.080678Z",
     "iopub.status.busy": "2025-07-07T19:47:32.080415Z",
     "iopub.status.idle": "2025-07-07T19:47:32.084199Z",
     "shell.execute_reply": "2025-07-07T19:47:32.083444Z",
     "shell.execute_reply.started": "2025-07-07T19:47:32.080649Z"
    },
    "trusted": true
   },
   "outputs": [],
   "source": [
    "lora_model.train()\n",
    "\n",
    "trainer = Trainer(\n",
    "    model=lora_model,\n",
    "    args=training_args,\n",
    "    train_dataset=tok_train_ds,\n",
    "    eval_dataset=tok_eval_ds,\n",
    "    data_collator=data_collator,\n",
    ")"
   ]
  },
  {
   "cell_type": "code",
   "execution_count": null,
   "metadata": {
    "execution": {
     "iopub.execute_input": "2025-07-07T19:47:32.213679Z",
     "iopub.status.busy": "2025-07-07T19:47:32.212806Z",
     "iopub.status.idle": "2025-07-07T19:47:32.216848Z",
     "shell.execute_reply": "2025-07-07T19:47:32.216142Z",
     "shell.execute_reply.started": "2025-07-07T19:47:32.213654Z"
    },
    "trusted": true
   },
   "outputs": [],
   "source": [
    "print(\"Starting training...\")\n",
    "trainer.train()\n",
    "\n",
    "wandb.finish()"
   ]
  },
  {
   "cell_type": "markdown",
   "metadata": {},
   "source": [
    "## Inference and Evaluation"
   ]
  },
  {
   "cell_type": "markdown",
   "metadata": {},
   "source": [
    "### Evaluating the model"
   ]
  },
  {
   "cell_type": "code",
   "execution_count": null,
   "metadata": {
    "execution": {
     "iopub.execute_input": "2025-07-07T19:47:34.135698Z",
     "iopub.status.busy": "2025-07-07T19:47:34.135101Z",
     "iopub.status.idle": "2025-07-07T19:47:34.139012Z",
     "shell.execute_reply": "2025-07-07T19:47:34.138265Z",
     "shell.execute_reply.started": "2025-07-07T19:47:34.135672Z"
    },
    "trusted": true
   },
   "outputs": [],
   "source": [
    "evaluation_result = trainer.evaluate()\n",
    "print(\"Evaluation results:\", evaluation_result)\n",
    "\n",
    "wandb.finish()"
   ]
  },
  {
   "cell_type": "markdown",
   "metadata": {},
   "source": [
    "### Saving the model and tokenizer"
   ]
  },
  {
   "cell_type": "code",
   "execution_count": null,
   "metadata": {
    "execution": {
     "iopub.execute_input": "2025-07-07T19:47:34.451767Z",
     "iopub.status.busy": "2025-07-07T19:47:34.451533Z",
     "iopub.status.idle": "2025-07-07T19:47:34.455257Z",
     "shell.execute_reply": "2025-07-07T19:47:34.454579Z",
     "shell.execute_reply.started": "2025-07-07T19:47:34.451750Z"
    },
    "trusted": true
   },
   "outputs": [],
   "source": [
    "lora_model.save_pretrained(training_args.output_dir)\n",
    "tokenizer.save_pretrained(training_args.output_dir)"
   ]
  },
  {
   "cell_type": "markdown",
   "metadata": {},
   "source": [
    "### Testing"
   ]
  },
  {
   "cell_type": "code",
   "execution_count": null,
   "metadata": {
    "execution": {
     "iopub.execute_input": "2025-07-07T19:47:35.577911Z",
     "iopub.status.busy": "2025-07-07T19:47:35.577141Z",
     "iopub.status.idle": "2025-07-07T19:47:35.586726Z",
     "shell.execute_reply": "2025-07-07T19:47:35.585954Z",
     "shell.execute_reply.started": "2025-07-07T19:47:35.577887Z"
    },
    "trusted": true
   },
   "outputs": [],
   "source": [
    "def generate_answer(model, tokenizer, context, question, max_new_tokens=50, generation_strategy=\"greedy\", top_k=50, top_p=0.9, temperature=1.0):\n",
    "    \"\"\"\n",
    "    Generate answer for a given context and question\n",
    "    \"\"\"\n",
    "    model.eval()\n",
    "    \n",
    "    prompt = f\"Context: {context}\\nQuestion: {question}\\nAnswer:\"\n",
    "    inputs = tokenizer(prompt, return_tensors=\"pt\", max_length=300, truncation=True)\n",
    "    \n",
    "    input_ids = inputs[\"input_ids\"].to(model.device)\n",
    "    attention_mask = inputs[\"attention_mask\"].to(model.device)\n",
    "\n",
    "    # Determine generation parameters\n",
    "    generation_kwargs = {\n",
    "        \"max_new_tokens\": max_new_tokens,\n",
    "        \"pad_token_id\": tokenizer.pad_token_id,\n",
    "        \"eos_token_id\": tokenizer.eos_token_id,\n",
    "        \"attention_mask\": attention_mask,\n",
    "    }\n",
    "\n",
    "    if generation_strategy == \"greedy\": \n",
    "        generation_kwargs[\"do_sample\"] = False\n",
    "        \n",
    "    elif generation_strategy == \"top_k\": \n",
    "        generation_kwargs[\"do_sample\"] = True\n",
    "        generation_kwargs[\"top_k\"] = top_k\n",
    "        generation_kwargs[\"temperature\"] = temperature\n",
    "        \n",
    "    elif generation_strategy == \"nucleus\": \n",
    "        generation_kwargs[\"do_sample\"] = True\n",
    "        generation_kwargs[\"top_p\"] = top_p\n",
    "        generation_kwargs[\"temperature\"] = temperature\n",
    "        \n",
    "    else:\n",
    "        generation_kwargs[\"do_sample\"] = True\n",
    "        generation_kwargs[\"temperature\"] = temperature\n",
    "\n",
    "\n",
    "    # Generate the output sequence\n",
    "    output_sequences = model.generate(input_ids, **generation_kwargs)\n",
    "\n",
    "    # Decode the output\n",
    "    generated_text = tokenizer.decode(output_sequences[0], skip_special_tokens=False) # Keepping EOS toekn becuase splition is based on this.\n",
    "\n",
    "    # Extract only the answer part\n",
    "    prompt_len_chars = len(prompt)\n",
    "    if generated_text.startswith(prompt):\n",
    "        answer_start_index = prompt_len_chars\n",
    "        answer = generated_text[answer_start_index:].strip()\n",
    "\n",
    "        # Remove the <|endoftext|> (eos_token) if it's at the end of the answer\n",
    "        if answer.endswith(tokenizer.eos_token):\n",
    "            answer = answer[:-len(tokenizer.eos_token)].strip()\n",
    "    else:\n",
    "        # Fallback if the generated text doesn't exactly start with the prompt (e.g., due to truncation)\n",
    "        # This is less ideal but provides a fallback.\n",
    "        print(\"Warning: Generated text did not start with the prompt as expected. Attempting heuristic extraction.\")\n",
    "        try:\n",
    "            answer_tag_index = generated_text.rfind(\"Answer:\") # Find last occurrence of \"Answer:\"\n",
    "            if answer_tag_index != -1:\n",
    "                answer = generated_text[answer_tag_index + len(\"Answer:\"):].strip()\n",
    "                if answer.endswith(tokenizer.eos_token):\n",
    "                    answer = answer[:-len(tokenizer.eos_token)].strip()\n",
    "            else:\n",
    "                answer = generated_text # If \"Answer:\" not found, return full generated text\n",
    "        except Exception:\n",
    "            answer = generated_text\n",
    "\n",
    "    return answer"
   ]
  },
  {
   "cell_type": "code",
   "execution_count": null,
   "metadata": {
    "execution": {
     "iopub.execute_input": "2025-07-07T19:47:36.898507Z",
     "iopub.status.busy": "2025-07-07T19:47:36.897996Z",
     "iopub.status.idle": "2025-07-07T19:47:36.901687Z",
     "shell.execute_reply": "2025-07-07T19:47:36.901081Z",
     "shell.execute_reply.started": "2025-07-07T19:47:36.898475Z"
    },
    "trusted": true
   },
   "outputs": [],
   "source": [
    "from peft import AutoPeftModelForCausalLM\n",
    "ft_model = AutoPeftModelForCausalLM.from_pretrained(training_args.output_dir, torch_dtype=torch.float16 if torch.cuda.is_available() else torch.float32)"
   ]
  },
  {
   "cell_type": "code",
   "execution_count": null,
   "metadata": {
    "execution": {
     "iopub.execute_input": "2025-07-07T19:47:37.094358Z",
     "iopub.status.busy": "2025-07-07T19:47:37.094128Z",
     "iopub.status.idle": "2025-07-07T19:47:37.098170Z",
     "shell.execute_reply": "2025-07-07T19:47:37.097342Z",
     "shell.execute_reply.started": "2025-07-07T19:47:37.094341Z"
    },
    "trusted": true
   },
   "outputs": [],
   "source": [
    "print(\"\\n=== Testing Fine-tuned Model ===\")\n",
    "for i, example in enumerate(vali_ds):   \n",
    "    if i >= 3: # Test on first 3 validation examples\n",
    "        break\n",
    "\n",
    "    context = example['context']\n",
    "    question = example['question']\n",
    "    ground_truth_answers = example['answers']['text']\n",
    "    print(f'----start of {i}----')\n",
    "    # Generating answer using the fine-tuned model\n",
    "    current_prediction = generate_answer(ft_model, tokenizer, context, question, generation_strategy=\"greedy\")\n",
    "    # current_prediction = generate_answer(ft_model, tokenizer, context, question, generation_strategy=\"top_k\", top_k=50)\n",
    "    # current_prediction = generate_answer(ft_model, tokenizer, context, question, generation_strategy=\"nucleus\", top_p=0.9)\n",
    "\n",
    "\n",
    "    print(f\"\\nExample {i+1}:\")\n",
    "    print(f\"  Context: {context[:100]}...\") # Print first 100 chars of context\n",
    "    print(f\"  Question: {question}\")\n",
    "    print(f\"  Ground Truth: {ground_truth_answers}\")\n",
    "    print(f\"  Prediction: {current_prediction}\")"
   ]
  },
  {
   "cell_type": "code",
   "execution_count": null,
   "metadata": {
    "execution": {
     "iopub.execute_input": "2025-07-07T19:47:38.242385Z",
     "iopub.status.busy": "2025-07-07T19:47:38.242127Z",
     "iopub.status.idle": "2025-07-07T19:47:38.246219Z",
     "shell.execute_reply": "2025-07-07T19:47:38.245266Z",
     "shell.execute_reply.started": "2025-07-07T19:47:38.242368Z"
    },
    "trusted": true
   },
   "outputs": [],
   "source": [
    "predictions = []\n",
    "references = []\n",
    "\n",
    "# Loop through validation dataset\n",
    "for example in vali_ds:\n",
    "    context = example['context']\n",
    "    question = example['question']\n",
    "    ground_truth_answers = example['answers']['text']\n",
    "\n",
    "    # Generate prediction (using greedy for consistent evaluation)\n",
    "    predicted_answer = generate_answer(ft_model, tokenizer, context, question, generation_strategy=\"greedy\")\n",
    "\n",
    "    predictions.append({\n",
    "        'prediction_text': predicted_answer,\n",
    "        'id': example['id'] # SQuAD metric requires the example ID\n",
    "    })\n",
    "    references.append({\n",
    "        'answers': {\n",
    "            'text': ground_truth_answers,\n",
    "            'answer_start': example['answers']['answer_start']\n",
    "        },\n",
    "        'id': example['id']\n",
    "    })"
   ]
  },
  {
   "cell_type": "code",
   "execution_count": null,
   "metadata": {
    "execution": {
     "iopub.execute_input": "2025-07-07T19:47:38.423362Z",
     "iopub.status.busy": "2025-07-07T19:47:38.422944Z",
     "iopub.status.idle": "2025-07-07T19:47:38.426440Z",
     "shell.execute_reply": "2025-07-07T19:47:38.425727Z",
     "shell.execute_reply.started": "2025-07-07T19:47:38.423343Z"
    },
    "trusted": true
   },
   "outputs": [],
   "source": [
    "try:\n",
    "    squad_metric = evaluate.load(\"squad\")\n",
    "    results = squad_metric.compute(predictions=predictions, references=references)\n",
    "    print(f\"\\nSQuAD Metrics: {results}\")\n",
    "except Exception as e:\n",
    "    print(f\"Could not load SQuAD metric: {e}\")\n",
    "    print(\"Install with: pip install evaluate datasets[metrics]\")"
   ]
  },
  {
   "cell_type": "markdown",
   "metadata": {},
   "source": [
    "## Experiments"
   ]
  },
  {
   "cell_type": "code",
   "execution_count": 52,
   "metadata": {
    "execution": {
     "iopub.execute_input": "2025-07-07T20:13:03.534508Z",
     "iopub.status.busy": "2025-07-07T20:13:03.533582Z",
     "iopub.status.idle": "2025-07-07T20:13:04.582778Z",
     "shell.execute_reply": "2025-07-07T20:13:04.582087Z",
     "shell.execute_reply.started": "2025-07-07T20:13:03.534465Z"
    },
    "trusted": true
   },
   "outputs": [
    {
     "data": {
      "application/vnd.jupyter.widget-view+json": {
       "model_id": "e8af57f406d24a33a665396e09a77b5f",
       "version_major": 2,
       "version_minor": 0
      },
      "text/plain": [
       "Downloading builder script: 0.00B [00:00, ?B/s]"
      ]
     },
     "metadata": {},
     "output_type": "display_data"
    },
    {
     "data": {
      "application/vnd.jupyter.widget-view+json": {
       "model_id": "5841acfc34b3499f821eb4bb12dae550",
       "version_major": 2,
       "version_minor": 0
      },
      "text/plain": [
       "Downloading extra modules: 0.00B [00:00, ?B/s]"
      ]
     },
     "metadata": {},
     "output_type": "display_data"
    }
   ],
   "source": [
    "config = AutoConfig.from_pretrained('openai-community/gpt2')\n",
    "model = AutoModelForCausalLM.from_pretrained('openai-community/gpt2', config=config)\n",
    "\n",
    "for param in model.parameters():\n",
    "    param.requires_grad = False\n",
    "\n",
    "data_collator = QADataCollator(tokenizer, max_length=300)\n",
    "global_squad_metric = evaluate.load(\"squad\")"
   ]
  },
  {
   "cell_type": "code",
   "execution_count": 39,
   "metadata": {
    "execution": {
     "iopub.execute_input": "2025-07-07T19:47:44.935586Z",
     "iopub.status.busy": "2025-07-07T19:47:44.935326Z",
     "iopub.status.idle": "2025-07-07T19:47:44.939540Z",
     "shell.execute_reply": "2025-07-07T19:47:44.938442Z",
     "shell.execute_reply.started": "2025-07-07T19:47:44.935571Z"
    },
    "trusted": true
   },
   "outputs": [],
   "source": [
    "experiment_results = []"
   ]
  },
  {
   "cell_type": "code",
   "execution_count": null,
   "metadata": {
    "execution": {
     "iopub.execute_input": "2025-07-07T20:46:13.600110Z",
     "iopub.status.busy": "2025-07-07T20:46:13.599797Z",
     "iopub.status.idle": "2025-07-07T20:47:03.807204Z",
     "shell.execute_reply": "2025-07-07T20:47:03.806054Z",
     "shell.execute_reply.started": "2025-07-07T20:46:13.600090Z"
    },
    "trusted": true
   },
   "outputs": [
    {
     "name": "stderr",
     "output_type": "stream",
     "text": [
      "No label_names provided for model class `PeftModelForCausalLM`. Since `PeftModel` hides base models input arguments, if label_names is not given, label_names can't be set automatically within `Trainer`. Note that empty label_names list will be used instead.\n"
     ]
    },
    {
     "name": "stdout",
     "output_type": "stream",
     "text": [
      "----------- Starting Experiment with config: LoRA_r4_lr1e-4_attention ----------- \n",
      "Save path: ./lora_qa_finetuned_model/LoRA_r4_lr1e-4_attention\n",
      "\n",
      "trainable params: 405,504 || all params: 124,845,312 || trainable%: 0.3248\n",
      "\n",
      "\n",
      "Captured Trainable Parameters: (405504, 124845312)\n",
      "Starting Training...\n"
     ]
    },
    {
     "data": {
      "text/html": [
       "Tracking run with wandb version 0.19.9"
      ],
      "text/plain": [
       "<IPython.core.display.HTML object>"
      ]
     },
     "metadata": {},
     "output_type": "display_data"
    },
    {
     "data": {
      "text/html": [
       "Run data is saved locally in <code>/kaggle/working/wandb/run-20250707_204614-t1n00c2j</code>"
      ],
      "text/plain": [
       "<IPython.core.display.HTML object>"
      ]
     },
     "metadata": {},
     "output_type": "display_data"
    },
    {
     "data": {
      "text/html": [
       "Syncing run <strong><a href='https://wandb.ai/amiraaz/Parameter-Effcient%20Fine-tuning%20of%20GPT-2%20with%20LoRA/runs/t1n00c2j' target=\"_blank\">LoRA_r4_lr1e-4_attention</a></strong> to <a href='https://wandb.ai/amiraaz/Parameter-Effcient%20Fine-tuning%20of%20GPT-2%20with%20LoRA' target=\"_blank\">Weights & Biases</a> (<a href='https://wandb.me/developer-guide' target=\"_blank\">docs</a>)<br>"
      ],
      "text/plain": [
       "<IPython.core.display.HTML object>"
      ]
     },
     "metadata": {},
     "output_type": "display_data"
    },
    {
     "data": {
      "text/html": [
       " View project at <a href='https://wandb.ai/amiraaz/Parameter-Effcient%20Fine-tuning%20of%20GPT-2%20with%20LoRA' target=\"_blank\">https://wandb.ai/amiraaz/Parameter-Effcient%20Fine-tuning%20of%20GPT-2%20with%20LoRA</a>"
      ],
      "text/plain": [
       "<IPython.core.display.HTML object>"
      ]
     },
     "metadata": {},
     "output_type": "display_data"
    },
    {
     "data": {
      "text/html": [
       " View run at <a href='https://wandb.ai/amiraaz/Parameter-Effcient%20Fine-tuning%20of%20GPT-2%20with%20LoRA/runs/t1n00c2j' target=\"_blank\">https://wandb.ai/amiraaz/Parameter-Effcient%20Fine-tuning%20of%20GPT-2%20with%20LoRA/runs/t1n00c2j</a>"
      ],
      "text/plain": [
       "<IPython.core.display.HTML object>"
      ]
     },
     "metadata": {},
     "output_type": "display_data"
    },
    {
     "data": {
      "text/html": [
       "\n",
       "    <div>\n",
       "      \n",
       "      <progress value='39' max='930' style='width:300px; height:20px; vertical-align: middle;'></progress>\n",
       "      [ 39/930 00:41 < 16:31, 0.90 it/s, Epoch 0.61/15]\n",
       "    </div>\n",
       "    <table border=\"1\" class=\"dataframe\">\n",
       "  <thead>\n",
       " <tr style=\"text-align: left;\">\n",
       "      <th>Step</th>\n",
       "      <th>Training Loss</th>\n",
       "      <th>Validation Loss</th>\n",
       "    </tr>\n",
       "  </thead>\n",
       "  <tbody>\n",
       "  </tbody>\n",
       "</table><p>"
      ],
      "text/plain": [
       "<IPython.core.display.HTML object>"
      ]
     },
     "metadata": {},
     "output_type": "display_data"
    },
    {
     "ename": "KeyboardInterrupt",
     "evalue": "",
     "output_type": "error",
     "traceback": [
      "\u001b[0;31m---------------------------------------------------------------------------\u001b[0m",
      "\u001b[0;31mKeyboardInterrupt\u001b[0m                         Traceback (most recent call last)",
      "\u001b[0;32m/tmp/ipykernel_35/862185193.py\u001b[0m in \u001b[0;36m<cell line: 0>\u001b[0;34m()\u001b[0m\n\u001b[1;32m     63\u001b[0m             )\n\u001b[1;32m     64\u001b[0m             \u001b[0mprint\u001b[0m\u001b[0;34m(\u001b[0m\u001b[0;34m'Starting Training...'\u001b[0m\u001b[0;34m)\u001b[0m\u001b[0;34m\u001b[0m\u001b[0;34m\u001b[0m\u001b[0m\n\u001b[0;32m---> 65\u001b[0;31m             \u001b[0mtrainer_output\u001b[0m \u001b[0;34m=\u001b[0m \u001b[0mtrainer\u001b[0m\u001b[0;34m.\u001b[0m\u001b[0mtrain\u001b[0m\u001b[0;34m(\u001b[0m\u001b[0;34m)\u001b[0m\u001b[0;34m\u001b[0m\u001b[0;34m\u001b[0m\u001b[0m\n\u001b[0m\u001b[1;32m     66\u001b[0m \u001b[0;34m\u001b[0m\u001b[0m\n\u001b[1;32m     67\u001b[0m             \u001b[0mtraining_runtime_seconds\u001b[0m \u001b[0;34m=\u001b[0m \u001b[0mtrainer_output\u001b[0m\u001b[0;34m.\u001b[0m\u001b[0mmetrics\u001b[0m\u001b[0;34m.\u001b[0m\u001b[0mget\u001b[0m\u001b[0;34m(\u001b[0m\u001b[0;34m\"train_runtime\"\u001b[0m\u001b[0;34m,\u001b[0m \u001b[0;32mNone\u001b[0m\u001b[0;34m)\u001b[0m\u001b[0;34m\u001b[0m\u001b[0;34m\u001b[0m\u001b[0m\n",
      "\u001b[0;32m/usr/local/lib/python3.11/dist-packages/transformers/trainer.py\u001b[0m in \u001b[0;36mtrain\u001b[0;34m(self, resume_from_checkpoint, trial, ignore_keys_for_eval, **kwargs)\u001b[0m\n\u001b[1;32m   2243\u001b[0m                 \u001b[0mhf_hub_utils\u001b[0m\u001b[0;34m.\u001b[0m\u001b[0menable_progress_bars\u001b[0m\u001b[0;34m(\u001b[0m\u001b[0;34m)\u001b[0m\u001b[0;34m\u001b[0m\u001b[0;34m\u001b[0m\u001b[0m\n\u001b[1;32m   2244\u001b[0m         \u001b[0;32melse\u001b[0m\u001b[0;34m:\u001b[0m\u001b[0;34m\u001b[0m\u001b[0;34m\u001b[0m\u001b[0m\n\u001b[0;32m-> 2245\u001b[0;31m             return inner_training_loop(\n\u001b[0m\u001b[1;32m   2246\u001b[0m                 \u001b[0margs\u001b[0m\u001b[0;34m=\u001b[0m\u001b[0margs\u001b[0m\u001b[0;34m,\u001b[0m\u001b[0;34m\u001b[0m\u001b[0;34m\u001b[0m\u001b[0m\n\u001b[1;32m   2247\u001b[0m                 \u001b[0mresume_from_checkpoint\u001b[0m\u001b[0;34m=\u001b[0m\u001b[0mresume_from_checkpoint\u001b[0m\u001b[0;34m,\u001b[0m\u001b[0;34m\u001b[0m\u001b[0;34m\u001b[0m\u001b[0m\n",
      "\u001b[0;32m/usr/local/lib/python3.11/dist-packages/transformers/trainer.py\u001b[0m in \u001b[0;36m_inner_training_loop\u001b[0;34m(self, batch_size, args, resume_from_checkpoint, trial, ignore_keys_for_eval)\u001b[0m\n\u001b[1;32m   2563\u001b[0m                         \u001b[0margs\u001b[0m\u001b[0;34m.\u001b[0m\u001b[0mlogging_nan_inf_filter\u001b[0m\u001b[0;34m\u001b[0m\u001b[0;34m\u001b[0m\u001b[0m\n\u001b[1;32m   2564\u001b[0m                         \u001b[0;32mand\u001b[0m \u001b[0;32mnot\u001b[0m \u001b[0mis_torch_xla_available\u001b[0m\u001b[0;34m(\u001b[0m\u001b[0;34m)\u001b[0m\u001b[0;34m\u001b[0m\u001b[0;34m\u001b[0m\u001b[0m\n\u001b[0;32m-> 2565\u001b[0;31m                         \u001b[0;32mand\u001b[0m \u001b[0;34m(\u001b[0m\u001b[0mtorch\u001b[0m\u001b[0;34m.\u001b[0m\u001b[0misnan\u001b[0m\u001b[0;34m(\u001b[0m\u001b[0mtr_loss_step\u001b[0m\u001b[0;34m)\u001b[0m \u001b[0;32mor\u001b[0m \u001b[0mtorch\u001b[0m\u001b[0;34m.\u001b[0m\u001b[0misinf\u001b[0m\u001b[0;34m(\u001b[0m\u001b[0mtr_loss_step\u001b[0m\u001b[0;34m)\u001b[0m\u001b[0;34m)\u001b[0m\u001b[0;34m\u001b[0m\u001b[0;34m\u001b[0m\u001b[0m\n\u001b[0m\u001b[1;32m   2566\u001b[0m                     ):\n\u001b[1;32m   2567\u001b[0m                         \u001b[0;31m# if loss is nan or inf simply add the average of previous logged losses\u001b[0m\u001b[0;34m\u001b[0m\u001b[0;34m\u001b[0m\u001b[0m\n",
      "\u001b[0;31mKeyboardInterrupt\u001b[0m: "
     ]
    }
   ],
   "source": [
    "for r in [4, 8, 16, 32]:\n",
    "    for target_module in [['c_attn'], ['c_attn', 'c_proj']]:\n",
    "        for lr in [\"1e-4\", \"2e-4\", \"5e-4\"]:\n",
    "            if len(target_module) > 1:\n",
    "                tar = 'attention_MLP'\n",
    "            else:\n",
    "                tar = \"attention\"\n",
    "\n",
    "            run_name = f'LoRA_r{r}_lr{lr}_{tar}'\n",
    "            save_dir = os.path.join(\"./lora_qa_finetuned_model\", run_name) \n",
    "\n",
    "            print(f\"----------- Starting Experiment with config: {run_name} ----------- \")\n",
    "            print(f'Save path: {save_dir}\\n')\n",
    "            \n",
    "            model = copy.deepcopy(model)\n",
    "\n",
    "            lora_config = LoraConfig(\n",
    "                r=r,\n",
    "                lora_alpha=32, \n",
    "                target_modules=target_module,\n",
    "                lora_dropout=0.05,\n",
    "                bias='none',\n",
    "                task_type=TaskType.CAUSAL_LM\n",
    "            )\n",
    "\n",
    "            lora_model = get_peft_model(model, lora_config)\n",
    "            lora_model.print_trainable_parameters()\n",
    "\n",
    "            trainable_params_count = lora_model.get_nb_trainable_parameters()\n",
    "            print(f\"\\n\\nCaptured Trainable Parameters: {trainable_params_count}\")\n",
    "\n",
    "            training_args = TrainingArguments(\n",
    "            output_dir=save_dir, # Directory to save checkpoints and outputs\n",
    "            per_device_train_batch_size=8, # Batch size per GPU/CPU for training\n",
    "            gradient_accumulation_steps=2, # Accumulate gradients over 2 steps ?\n",
    "            per_device_eval_batch_size=8, # Batch size per GPU/CPU for evaluation\n",
    "            learning_rate=float(lr), # Initial learning rate for AdamW optimizer\n",
    "            num_train_epochs=15, # Total number of training epochs\n",
    "            logging_steps=50, # Log training metrics every 50 steps\n",
    "            save_steps=500, # Save checkpoint every 500 steps\n",
    "            \n",
    "            eval_strategy=\"steps\", # Evaluate every 'eval_steps'\n",
    "            eval_steps=500, # Perform evaluation every 500 steps\n",
    "            warmup_steps=100, # Number of warmup steps for learning rate scheduler\n",
    "            lr_scheduler_type=\"cosine\", # Type of learning rate scheduler\n",
    "            report_to=\"wandb\", # Don't report to any external logging tool by default\n",
    "            run_name=run_name,\n",
    "            push_to_hub=False, # Do not push model to Hugging Face Hub\n",
    "            fp16=torch.cuda.is_available(), # Use mixed precision training if CUDA is available\n",
    "            load_best_model_at_end=True, # Load the best model at the end of training based on eval_loss\n",
    "            metric_for_best_model=\"eval_loss\", # Metric to determine the best model\n",
    "            greater_is_better=False, # Smaller eval_loss is better\n",
    "        )\n",
    "\n",
    "            lora_model.train()\n",
    "            \n",
    "            trainer = Trainer(\n",
    "                model=lora_model,\n",
    "                args=training_args,\n",
    "                train_dataset=tok_train_ds,\n",
    "                eval_dataset=tok_eval_ds,\n",
    "                data_collator=data_collator,\n",
    "            )\n",
    "            print('Starting Training...')\n",
    "            trainer_output = trainer.train()\n",
    "    \n",
    "            training_runtime_seconds = trainer_output.metrics.get(\"train_runtime\", None)\n",
    "            if training_runtime_seconds is not None:\n",
    "                print(f\"Training runtime for {run_name}: {training_runtime_seconds:.2f} seconds\")\n",
    "            \n",
    "            lora_model.save_pretrained(training_args.output_dir)\n",
    "            tokenizer.save_pretrained(training_args.output_dir)\n",
    "    \n",
    "            # Evaluation\n",
    "            ft_model_for_eval = trainer.model\n",
    "            ft_model_for_eval.eval()\n",
    "    \n",
    "            predictions = []\n",
    "            references = []\n",
    "    \n",
    "            \n",
    "            for i, example in enumerate(vali_ds):\n",
    "                print(f'Example number: {i}')\n",
    "                context = example['context']\n",
    "                question = example['question']\n",
    "                ground_truth_answers = example['answers']['text']\n",
    "    \n",
    "                predicted_answer = generate_answer(ft_model_for_eval, tokenizer, context, question, generation_strategy=\"greedy\", max_new_tokens=50)\n",
    "    \n",
    "                predictions.append({\n",
    "                    'prediction_text': predicted_answer,\n",
    "                    'id': example['id']\n",
    "                })\n",
    "                references.append({\n",
    "                    'answers': {\n",
    "                        'text': ground_truth_answers,\n",
    "                        'answer_start': example['answers']['answer_start']\n",
    "                    },\n",
    "                    'id': example['id']\n",
    "                })\n",
    "    \n",
    "            try:\n",
    "                final_squad_results = global_squad_metric.compute(predictions=predictions, references=references)\n",
    "                print(f\"\\nFinal SQuAD Metrics for {run_name}: {final_squad_results}\")\n",
    "    \n",
    "                if wandb.run is not None:\n",
    "                    wandb_log_dict = {\n",
    "                            \"final_squad_f1\": final_squad_results[\"f1\"],\n",
    "                            \"final_squad_exact_match\": final_squad_results[\"exact_match\"],\n",
    "                            \"best_eval_loss\": trainer.state.best_metric,\n",
    "                            \"trainable_parameters\": trainable_params_count[0],\n",
    "                        }\n",
    "                    if training_runtime_seconds is not None:\n",
    "                        wandb_log_dict[\"train_runtime_seconds\"] = training_runtime_seconds\n",
    "                    wandb.log(wandb_log_dict)\n",
    "                    print(f\"Final SQuAD and best eval loss metrics logged to WandB for run {wandb.run.name}.\")\n",
    "    \n",
    "                experiment_result_entry = {\n",
    "                        \"r\": r,\n",
    "                        \"lr\": float(lr),\n",
    "                        \"target_modules\": tar,\n",
    "                        \"f1\": final_squad_results[\"f1\"],\n",
    "                        \"exact_match\": final_squad_results[\"exact_match\"],\n",
    "                        \"eval_loss\": trainer.state.best_metric,\n",
    "                        \"trainable_parameters\": trainable_params_count[0],\n",
    "                    }\n",
    "                if training_runtime_seconds is not None:\n",
    "                    experiment_result_entry[\"train_runtime_seconds\"] = training_runtime_seconds\n",
    "                    \n",
    "                experiment_results.append(experiment_result_entry)\n",
    "    \n",
    "            except Exception as e:\n",
    "                print(f\"Error computing or logging SQuAD metric for {run_name}: {e}\")\n",
    "    \n",
    "            wandb.finish()\n"
   ]
  },
  {
   "cell_type": "code",
   "execution_count": null,
   "metadata": {
    "execution": {
     "iopub.execute_input": "2025-07-07T20:30:19.672315Z",
     "iopub.status.busy": "2025-07-07T20:30:19.671627Z",
     "iopub.status.idle": "2025-07-07T20:30:19.675905Z",
     "shell.execute_reply": "2025-07-07T20:30:19.675093Z",
     "shell.execute_reply.started": "2025-07-07T20:30:19.672288Z"
    },
    "trusted": true
   },
   "outputs": [],
   "source": [
    "os.makedirs(\"plots\", exist_ok=True)"
   ]
  },
  {
   "cell_type": "code",
   "execution_count": 64,
   "metadata": {
    "execution": {
     "iopub.execute_input": "2025-07-07T20:44:07.532879Z",
     "iopub.status.busy": "2025-07-07T20:44:07.532214Z",
     "iopub.status.idle": "2025-07-07T20:44:07.538720Z",
     "shell.execute_reply": "2025-07-07T20:44:07.537825Z",
     "shell.execute_reply.started": "2025-07-07T20:44:07.532856Z"
    },
    "trusted": true
   },
   "outputs": [
    {
     "data": {
      "text/plain": [
       "[{'r': 4,\n",
       "  'lr': '1e-4',\n",
       "  'target_modules': 'attention',\n",
       "  'f1': 0.0,\n",
       "  'exact_match': 0.0,\n",
       "  'eval_loss': None,\n",
       "  'trainable_parameters': (147456, 124587264),\n",
       "  'train_runtime_seconds': 132.4958},\n",
       " {'r': 4,\n",
       "  'lr': '1e-4',\n",
       "  'target_modules': 'attention_MLP',\n",
       "  'f1': 60.0,\n",
       "  'exact_match': 60.0,\n",
       "  'eval_loss': None,\n",
       "  'trainable_parameters': (405504, 124845312),\n",
       "  'train_runtime_seconds': 141.292},\n",
       " {'r': 4,\n",
       "  'lr': 0.0001,\n",
       "  'target_modules': 'attention',\n",
       "  'f1': 60.0,\n",
       "  'exact_match': 60.0,\n",
       "  'eval_loss': None,\n",
       "  'trainable_parameters': (405504, 124845312),\n",
       "  'train_runtime_seconds': 141.4075}]"
      ]
     },
     "execution_count": 64,
     "metadata": {},
     "output_type": "execute_result"
    }
   ],
   "source": [
    "json_output_path = os.path.join(\"plots\", \"experiment_results.json\")\n",
    "with open(json_output_path, 'w') as f:\n",
    "    json.dump(experiment_results, f, indent=4)\n",
    "print(f\"\\nExperiment results saved to {json_output_path}\")"
   ]
  }
 ],
 "metadata": {
  "kaggle": {
   "accelerator": "nvidiaTeslaT4",
   "dataSources": [],
   "dockerImageVersionId": 31040,
   "isGpuEnabled": true,
   "isInternetEnabled": true,
   "language": "python",
   "sourceType": "notebook"
  },
  "kernelspec": {
   "display_name": "Python 3",
   "language": "python",
   "name": "python3"
  },
  "language_info": {
   "codemirror_mode": {
    "name": "ipython",
    "version": 3
   },
   "file_extension": ".py",
   "mimetype": "text/x-python",
   "name": "python",
   "nbconvert_exporter": "python",
   "pygments_lexer": "ipython3",
   "version": "3.11.11"
  }
 },
 "nbformat": 4,
 "nbformat_minor": 4
}
